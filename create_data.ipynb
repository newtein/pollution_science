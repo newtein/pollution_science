{
 "cells": [
  {
   "cell_type": "code",
   "execution_count": 4,
   "metadata": {},
   "outputs": [],
   "source": [
    "import pandas as pd\n",
    "from weekly_network_using_dict_object import WeeklyNetworkUsingDictObj\n",
    "import datetime\n",
    "from add_state_and_county import AddStateAndCounty\n",
    "import matplotlib.pyplot as plt"
   ]
  },
  {
   "cell_type": "code",
   "execution_count": null,
   "metadata": {},
   "outputs": [],
   "source": [
    "network_df = "
   ]
  },
  {
   "cell_type": "code",
   "execution_count": 36,
   "metadata": {},
   "outputs": [],
   "source": []
  },
  {
   "cell_type": "code",
   "execution_count": 38,
   "metadata": {
    "scrolled": true
   },
   "outputs": [
    {
     "name": "stdout",
     "output_type": "stream",
     "text": [
      "23-01-2020\n",
      "24-01-2020\n",
      "25-01-2020\n",
      "26-01-2020\n",
      "27-01-2020\n",
      "28-01-2020\n",
      "29-01-2020\n",
      "30-01-2020\n",
      "31-01-2020\n",
      "01-02-2020\n",
      "02-02-2020\n",
      "03-02-2020\n",
      "04-02-2020\n",
      "05-02-2020\n",
      "06-02-2020\n",
      "07-02-2020\n",
      "08-02-2020\n",
      "09-02-2020\n",
      "10-02-2020\n",
      "11-02-2020\n",
      "12-02-2020\n",
      "13-02-2020\n",
      "14-02-2020\n",
      "15-02-2020\n",
      "16-02-2020\n",
      "17-02-2020\n",
      "18-02-2020\n",
      "19-02-2020\n",
      "20-02-2020\n",
      "21-02-2020\n",
      "22-02-2020\n",
      "23-02-2020\n",
      "24-02-2020\n",
      "25-02-2020\n",
      "26-02-2020\n",
      "27-02-2020\n",
      "28-02-2020\n",
      "29-02-2020\n",
      "01-03-2020\n",
      "02-03-2020\n",
      "03-03-2020\n",
      "04-03-2020\n",
      "05-03-2020\n",
      "06-03-2020\n",
      "07-03-2020\n",
      "08-03-2020\n",
      "09-03-2020\n",
      "10-03-2020\n",
      "11-03-2020\n",
      "12-03-2020\n",
      "13-03-2020\n",
      "14-03-2020\n",
      "15-03-2020\n",
      "16-03-2020\n",
      "17-03-2020\n",
      "18-03-2020\n",
      "19-03-2020\n",
      "20-03-2020\n",
      "21-03-2020\n",
      "22-03-2020\n",
      "23-03-2020\n",
      "24-03-2020\n",
      "25-03-2020\n",
      "26-03-2020\n",
      "27-03-2020\n",
      "28-03-2020\n",
      "29-03-2020\n",
      "30-03-2020\n",
      "31-03-2020\n",
      "01-04-2020\n",
      "02-04-2020\n",
      "03-04-2020\n",
      "04-04-2020\n",
      "05-04-2020\n",
      "06-04-2020\n",
      "07-04-2020\n",
      "08-04-2020\n",
      "09-04-2020\n",
      "10-04-2020\n",
      "11-04-2020\n",
      "12-04-2020\n",
      "13-04-2020\n",
      "14-04-2020\n",
      "15-04-2020\n",
      "16-04-2020\n",
      "17-04-2020\n",
      "18-04-2020\n",
      "19-04-2020\n",
      "20-04-2020\n",
      "Completed.\n"
     ]
    }
   ],
   "source": [
    "CombineData(\"PM2\", start_date=\"08-01-2020\", end_date=\"06-04-2020\").get_sites()"
   ]
  },
  {
   "cell_type": "code",
   "execution_count": null,
   "metadata": {},
   "outputs": [],
   "source": []
  }
 ],
 "metadata": {
  "kernelspec": {
   "display_name": "Python 3",
   "language": "python",
   "name": "python3"
  },
  "language_info": {
   "codemirror_mode": {
    "name": "ipython",
    "version": 3
   },
   "file_extension": ".py",
   "mimetype": "text/x-python",
   "name": "python",
   "nbconvert_exporter": "python",
   "pygments_lexer": "ipython3",
   "version": "3.6.3"
  }
 },
 "nbformat": 4,
 "nbformat_minor": 2
}
