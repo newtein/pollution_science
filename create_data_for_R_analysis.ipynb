{
 "cells": [
  {
   "cell_type": "code",
   "execution_count": 1,
   "metadata": {},
   "outputs": [],
   "source": [
    "import pandas as pd\n",
    "from read_data import ReadData\n",
    "\n",
    "pd.set_option('display.max_columns', 100)"
   ]
  },
  {
   "cell_type": "code",
   "execution_count": 2,
   "metadata": {},
   "outputs": [],
   "source": [
    "\"\"\"\n",
    "WIND: \n",
    "    61101 - Speed - Scalar\n",
    "    61103 - Resultant\n",
    "TEMP:\n",
    "    62104 - 24 hr Max\n",
    "    68105 - Avg tempature\n",
    "Relative Humitdity:\n",
    "    62201 - Relative Humidity\n",
    "Pressure:\n",
    "    64101 - Barometric presure\n",
    "    68108 - Avg pressure\n",
    "Dew point\n",
    "    62103\n",
    "\"\"\"\n",
    "\n",
    "parameter_map = {\n",
    "    \"WIND\": 61101,\n",
    "#     \"WIND_RES\": 61103,\n",
    "    \"TEMP\": 62101,\n",
    "    \"RH\": 62201,\n",
    "    \"Pressue\": 64101\n",
    "}\n",
    "\n",
    "path = \"api_data/R_data\"\n",
    "state_code = \"06\"\n",
    "filter_city_list = ['037', '111']"
   ]
  },
  {
   "cell_type": "code",
   "execution_count": 3,
   "metadata": {},
   "outputs": [
    {
     "name": "stdout",
     "output_type": "stream",
     "text": [
      "api_data/R_data/daily_61101_2020_06.csv\n",
      "api_data/R_data/daily_62101_2020_06.csv\n",
      "api_data/R_data/daily_62201_2020_06.csv\n",
      "api_data/R_data/daily_64101_2020_06.csv\n",
      "{'San Bernardino', 'San Diego', 'Inyo', 'Los Angeles', 'Ventura'}\n"
     ]
    }
   ],
   "source": [
    "cities = set()\n",
    "combined_df = pd.DataFrame()\n",
    "for parameter in parameter_map:\n",
    "    code = parameter_map[parameter]\n",
    "    fname = \"{}/daily_{}_2020_{}.csv\".format(path, code, state_code)\n",
    "    print(fname)\n",
    "    df = ReadData(parameter, year='2020', filename=fname).get_pandas_obj()\n",
    "    s = df['County'].unique().tolist()\n",
    "    if not cities:\n",
    "        cities =  set(s)\n",
    "    cities = cities.intersection(s)\n",
    "    df = df[df['County Code'].isin(filter_city_list)]\n",
    "    new_parameter_col = 'Arithmetic Mean {}'.format(parameter)\n",
    "    df[new_parameter_col] =  df['Arithmetic Mean']\n",
    "    resultant_df = df[['id', 'Date Local', 'County', new_parameter_col]]\n",
    "    if combined_df.empty:\n",
    "        combined_df = resultant_df\n",
    "    else:\n",
    "        combined_df = combined_df.merge(resultant_df, on =[\"id\", \"Date Local\", \"County\"], how=\"outer\")\n",
    "\n",
    "print(cities)"
   ]
  },
  {
   "cell_type": "code",
   "execution_count": 4,
   "metadata": {},
   "outputs": [],
   "source": [
    "df = combined_df.groupby(['Date Local', \"County\"]).agg({'Arithmetic Mean Pressue': 'max',\n",
    "                                                 'Arithmetic Mean RH': 'max',\n",
    "                                                 'Arithmetic Mean TEMP': 'max',\n",
    "                                                 'Arithmetic Mean WIND': 'max',\n",
    "                                                 }).reset_index()\n",
    "df.columns = [\"date\", \"county\", \"mean_pressure\", \"mean_rh\", \"mean_temp\", \"mean_wind\"]"
   ]
  },
  {
   "cell_type": "code",
   "execution_count": 5,
   "metadata": {},
   "outputs": [
    {
     "name": "stderr",
     "output_type": "stream",
     "text": [
      "c:\\program files (x86)\\python36-32\\lib\\site-packages\\ipykernel_launcher.py:2: SettingWithCopyWarning: \n",
      "A value is trying to be set on a copy of a slice from a DataFrame.\n",
      "Try using .loc[row_indexer,col_indexer] = value instead\n",
      "\n",
      "See the caveats in the documentation: http://pandas.pydata.org/pandas-docs/stable/indexing.html#indexing-view-versus-copy\n",
      "  \n"
     ]
    }
   ],
   "source": [
    "tdf = df.drop_duplicates('date', keep='first')\n",
    "tdf['date_number'] = list(range(1, tdf.shape[0]+1))"
   ]
  },
  {
   "cell_type": "code",
   "execution_count": 6,
   "metadata": {
    "scrolled": true
   },
   "outputs": [],
   "source": [
    "df['city'] = df['county'].apply(lambda x: 1 if x=='Los Angeles' else 2)\n",
    "df = df.merge(tdf[['date', 'date_number']], on='date')"
   ]
  },
  {
   "cell_type": "code",
   "execution_count": null,
   "metadata": {},
   "outputs": [],
   "source": [
    "pol_df = ReadData(\"PM2\", year='2020').get_pandas_obj()\n",
    "pol_df = pol_df[pol_df['State Code']==\"06\"]"
   ]
  },
  {
   "cell_type": "code",
   "execution_count": 25,
   "metadata": {},
   "outputs": [
    {
     "data": {
      "text/plain": [
       "array(['Ventura', 'Santa Cruz', 'Santa Barbara', 'San Luis Obispo',\n",
       "       'Tulare', 'Sutter', 'San Diego', 'San Bernardino', 'Fresno',\n",
       "       'Los Angeles', 'Kings', 'Kern', 'Inyo', 'Imperial', 'Riverside',\n",
       "       'Plumas', 'Placer', 'San Benito', 'Sacramento', 'Orange', 'Merced',\n",
       "       'Nevada', 'Monterey', 'Mono', 'Colusa', 'Lake', 'Madera',\n",
       "       'Stanislaus', 'Shasta', 'Yolo'], dtype=object)"
      ]
     },
     "execution_count": 25,
     "metadata": {},
     "output_type": "execute_result"
    }
   ],
   "source": [
    "pol_df = ReadData(\"PM2\", year='2020').get_pandas_obj()\n",
    "pol_df = pol_df[pol_df['State Code']==\"06\"]\n",
    "pol_df['County'].unique()\n",
    "# pol_df.groupby(['County', 'State Code', 'State']).count().sort_values(by=\"id\", ascending=False)"
   ]
  },
  {
   "cell_type": "code",
   "execution_count": null,
   "metadata": {},
   "outputs": [],
   "source": [
    "pol_df = pol_df[pol_df['County Code'].isin(filter_city_list)]\n",
    "pol_df = pol_df.groupby(['Date Local', \"County\"]).agg({'First Max Value': 'max'}).reset_index()"
   ]
  },
  {
   "cell_type": "code",
   "execution_count": null,
   "metadata": {},
   "outputs": [],
   "source": [
    "pol_df['pollutant_7'] = pol_df.groupby(['County'])['First Max Value'].transform(lambda x: x.rolling(7).mean()).reset_index()['First Max Value']\n",
    "pol_df['pollutant_14'] = pol_df.groupby(['County'])['First Max Value'].transform(lambda x: x.rolling(14).mean()).reset_index()['First Max Value']\n",
    "pol_df['pollutant_21'] = pol_df.groupby(['County'])['First Max Value'].transform(lambda x: x.rolling(21).mean()).reset_index()['First Max Value']"
   ]
  },
  {
   "cell_type": "code",
   "execution_count": null,
   "metadata": {},
   "outputs": [],
   "source": [
    "res_df_1 = pol_df[['Date Local', \"County\", \"pollutant_7\"]]\n",
    "res_df_1.columns = ['date', 'county', 'pollutant']\n",
    "res_df_1 = res_df_1.merge(df, on=('date', 'county'))"
   ]
  },
  {
   "cell_type": "code",
   "execution_count": null,
   "metadata": {},
   "outputs": [],
   "source": [
    "covid_data = pd.read_csv(\"data/covid_data/covid_us_county.csv\")\n",
    "covid_data['date'] = pd.to_datetime(covid_data['date'], format=\"%Y-%m-%d\")"
   ]
  },
  {
   "cell_type": "code",
   "execution_count": null,
   "metadata": {},
   "outputs": [],
   "source": [
    "covid_data['cases'] = covid_data['cases']+1\n",
    "covid_data['deaths'] = covid_data['deaths']+1"
   ]
  },
  {
   "cell_type": "code",
   "execution_count": null,
   "metadata": {},
   "outputs": [],
   "source": [
    "covid_data['cases_shifted'] = covid_data.groupby('county')['cases'].shift(1)\n",
    "covid_data['deaths_shifted'] = covid_data.groupby('county')['deaths'].shift(1)\n",
    "covid_data['cases_shifted'] = covid_data['cases_shifted'].fillna(1)\n",
    "covid_data['deaths_shifted'] = covid_data['deaths_shifted'].fillna(1)"
   ]
  },
  {
   "cell_type": "code",
   "execution_count": null,
   "metadata": {},
   "outputs": [],
   "source": [
    "final_df= res_df_1.merge(covid_data[['date', 'county','cases_shifted', 'cases']], on=(\"date\", \"county\"))"
   ]
  },
  {
   "cell_type": "code",
   "execution_count": null,
   "metadata": {},
   "outputs": [],
   "source": [
    "final_df.to_csv(\"r_files/pollutant_pm2.csv\", index=False)"
   ]
  },
  {
   "cell_type": "code",
   "execution_count": null,
   "metadata": {},
   "outputs": [],
   "source": []
  }
 ],
 "metadata": {
  "kernelspec": {
   "display_name": "Python 3",
   "language": "python",
   "name": "python3"
  },
  "language_info": {
   "codemirror_mode": {
    "name": "ipython",
    "version": 3
   },
   "file_extension": ".py",
   "mimetype": "text/x-python",
   "name": "python",
   "nbconvert_exporter": "python",
   "pygments_lexer": "ipython3",
   "version": "3.6.3"
  }
 },
 "nbformat": 4,
 "nbformat_minor": 2
}
