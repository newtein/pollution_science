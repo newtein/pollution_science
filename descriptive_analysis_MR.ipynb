{
 "cells": [
  {
   "cell_type": "code",
   "execution_count": 1,
   "metadata": {},
   "outputs": [],
   "source": [
    "from combine_data import CombineData\n",
    "import matplotlib.pyplot as plt\n",
    "import seaborn as sns\n",
    "from create_data_for_r_pipelined import RDataCreationPipeline\n",
    "from combine_multiple_pollutants import CombineMultiplePollutants\n",
    "import numpy as np"
   ]
  },
  {
   "cell_type": "code",
   "execution_count": 2,
   "metadata": {},
   "outputs": [],
   "source": [
    "pollutants = [\"PM2\", \"PM10\", \"O3\"]\n",
    "state_code = \"06\"\n",
    "county_code =[\"111\", \"037\"]"
   ]
  },
  {
   "cell_type": "code",
   "execution_count": 3,
   "metadata": {},
   "outputs": [
    {
     "name": "stdout",
     "output_type": "stream",
     "text": [
      "Data fetched for year:  2020\n",
      "Micrograms/cubic meter (LC)\n",
      "Data fetched for year:  2020\n",
      "Micrograms/cubic meter (25 C)\n",
      "Data fetched for year:  2020\n",
      "Parts per million\n"
     ]
    }
   ],
   "source": [
    "box_plot_data = {}\n",
    "for p in pollutants:\n",
    "    df = CombineData(p, start_date=\"22-01-2020\", end_date=\"30-04-2020\").get_pandas_obj()\n",
    "    df = df[df['State Code']==state_code]\n",
    "    df = df[df['County Code'].isin(county_code)]\n",
    "    box_plot_data[p] = df['First Max Value'].tolist()\n",
    "    print(df['Units Of Measure'].iloc[1])"
   ]
  },
  {
   "cell_type": "code",
   "execution_count": 4,
   "metadata": {},
   "outputs": [
    {
     "data": {
      "text/plain": [
       "'Parts per million'"
      ]
     },
     "execution_count": 4,
     "metadata": {},
     "output_type": "execute_result"
    }
   ],
   "source": [
    "df['Units Of Measure'].iloc[1]"
   ]
  },
  {
   "cell_type": "code",
   "execution_count": 5,
   "metadata": {},
   "outputs": [
    {
     "data": {
      "image/png": "[encoded data removed]",
      "text/plain": [
       "<Figure size 432x288 with 1 Axes>"
      ]
     },
     "metadata": {},
     "output_type": "display_data"
    },
    {
     "data": {
      "image/png": "[encoded data removed]",
      "text/plain": [
       "<Figure size 432x288 with 1 Axes>"
      ]
     },
     "metadata": {},
     "output_type": "display_data"
    },
    {
     "data": {
      "image/png": "[encoded data removed]",
      "text/plain": [
       "<Figure size 432x288 with 1 Axes>"
      ]
     },
     "metadata": {},
     "output_type": "display_data"
    }
   ],
   "source": [
    "units = ['Micrograms/cubic meter (LC)','Micrograms/cubic meter (25 C)', 'Parts per million' ]\n",
    "sns.set_style('whitegrid')\n",
    "for index, p in enumerate(pollutants):\n",
    "    sns.boxplot(box_plot_data[p], sym='')\n",
    "    plt.title(p)\n",
    "    plt.xlabel(units[index])\n",
    "    #plt.savefig('manuscript_images/desc_stat_{}.png'.format(p), dpi=600)\n",
    "    plt.show()"
   ]
  },
  {
   "cell_type": "code",
   "execution_count": 6,
   "metadata": {},
   "outputs": [
    {
     "name": "stdout",
     "output_type": "stream",
     "text": [
      "WIND Knots\n",
      "TEMP Degrees Fahrenheit\n",
      "RH Percent relative humidity\n",
      "Pressue Millibars\n",
      "Common cities in 06 state: {'Ventura', 'San Bernardino', 'Inyo', 'Los Angeles', 'San Diego'}\n"
     ]
    },
    {
     "name": "stderr",
     "output_type": "stream",
     "text": [
      "D:\\CovidPollution\\create_data_for_r_pipelined.py:139: SettingWithCopyWarning: \n",
      "A value is trying to be set on a copy of a slice from a DataFrame.\n",
      "Try using .loc[row_indexer,col_indexer] = value instead\n",
      "\n",
      "See the caveats in the documentation: https://pandas.pydata.org/pandas-docs/stable/user_guide/indexing.html#returning-a-view-versus-a-copy\n",
      "  tdf['date_number'] = list(range(1, tdf.shape[0] + 1))\n"
     ]
    },
    {
     "name": "stdout",
     "output_type": "stream",
     "text": [
      "r_files/source_file_SA4/R_data_PM2_06_0-7_COVID_mortality.csv & r_files/source_file_SA4/R_data_PM2_06_0-7_COVID_cases.csv written for PM2 at lag 0-7.\n"
     ]
    },
    {
     "data": {
      "text/html": [
       "<div>\n",
       "<style scoped>\n",
       "    .dataframe tbody tr th:only-of-type {\n",
       "        vertical-align: middle;\n",
       "    }\n",
       "\n",
       "    .dataframe tbody tr th {\n",
       "        vertical-align: top;\n",
       "    }\n",
       "\n",
       "    .dataframe thead th {\n",
       "        text-align: right;\n",
       "    }\n",
       "</style>\n",
       "<table border=\"1\" class=\"dataframe\">\n",
       "  <thead>\n",
       "    <tr style=\"text-align: right;\">\n",
       "      <th></th>\n",
       "      <th>date</th>\n",
       "      <th>county</th>\n",
       "      <th>mean_pressure</th>\n",
       "      <th>mean_rh</th>\n",
       "      <th>mean_temp</th>\n",
       "      <th>mean_wind</th>\n",
       "      <th>city</th>\n",
       "      <th>date_number</th>\n",
       "    </tr>\n",
       "  </thead>\n",
       "  <tbody>\n",
       "    <tr>\n",
       "      <th>42</th>\n",
       "      <td>2020-01-22</td>\n",
       "      <td>Los Angeles</td>\n",
       "      <td>933.333333</td>\n",
       "      <td>58.625000</td>\n",
       "      <td>53.754167</td>\n",
       "      <td>4.175000</td>\n",
       "      <td>1</td>\n",
       "      <td>22</td>\n",
       "    </tr>\n",
       "    <tr>\n",
       "      <th>43</th>\n",
       "      <td>2020-01-22</td>\n",
       "      <td>Ventura</td>\n",
       "      <td>987.583333</td>\n",
       "      <td>81.083333</td>\n",
       "      <td>54.625000</td>\n",
       "      <td>4.675000</td>\n",
       "      <td>2</td>\n",
       "      <td>22</td>\n",
       "    </tr>\n",
       "    <tr>\n",
       "      <th>44</th>\n",
       "      <td>2020-01-23</td>\n",
       "      <td>Los Angeles</td>\n",
       "      <td>933.750000</td>\n",
       "      <td>63.125000</td>\n",
       "      <td>49.966667</td>\n",
       "      <td>1.858333</td>\n",
       "      <td>1</td>\n",
       "      <td>23</td>\n",
       "    </tr>\n",
       "    <tr>\n",
       "      <th>45</th>\n",
       "      <td>2020-01-23</td>\n",
       "      <td>Ventura</td>\n",
       "      <td>985.708333</td>\n",
       "      <td>66.909091</td>\n",
       "      <td>64.375000</td>\n",
       "      <td>7.483333</td>\n",
       "      <td>2</td>\n",
       "      <td>23</td>\n",
       "    </tr>\n",
       "    <tr>\n",
       "      <th>46</th>\n",
       "      <td>2020-01-24</td>\n",
       "      <td>Los Angeles</td>\n",
       "      <td>930.166667</td>\n",
       "      <td>55.208333</td>\n",
       "      <td>52.495833</td>\n",
       "      <td>3.029167</td>\n",
       "      <td>1</td>\n",
       "      <td>24</td>\n",
       "    </tr>\n",
       "    <tr>\n",
       "      <th>...</th>\n",
       "      <td>...</td>\n",
       "      <td>...</td>\n",
       "      <td>...</td>\n",
       "      <td>...</td>\n",
       "      <td>...</td>\n",
       "      <td>...</td>\n",
       "      <td>...</td>\n",
       "      <td>...</td>\n",
       "    </tr>\n",
       "    <tr>\n",
       "      <th>207</th>\n",
       "      <td>2020-04-26</td>\n",
       "      <td>Ventura</td>\n",
       "      <td>980.666667</td>\n",
       "      <td>71.250000</td>\n",
       "      <td>72.708333</td>\n",
       "      <td>5.337500</td>\n",
       "      <td>2</td>\n",
       "      <td>117</td>\n",
       "    </tr>\n",
       "    <tr>\n",
       "      <th>208</th>\n",
       "      <td>2020-04-27</td>\n",
       "      <td>Ventura</td>\n",
       "      <td>981.416667</td>\n",
       "      <td>71.416667</td>\n",
       "      <td>70.125000</td>\n",
       "      <td>5.712500</td>\n",
       "      <td>2</td>\n",
       "      <td>118</td>\n",
       "    </tr>\n",
       "    <tr>\n",
       "      <th>209</th>\n",
       "      <td>2020-04-28</td>\n",
       "      <td>Ventura</td>\n",
       "      <td>981.708333</td>\n",
       "      <td>75.458333</td>\n",
       "      <td>71.450000</td>\n",
       "      <td>6.004167</td>\n",
       "      <td>2</td>\n",
       "      <td>119</td>\n",
       "    </tr>\n",
       "    <tr>\n",
       "      <th>210</th>\n",
       "      <td>2020-04-29</td>\n",
       "      <td>Ventura</td>\n",
       "      <td>981.875000</td>\n",
       "      <td>85.791667</td>\n",
       "      <td>68.684211</td>\n",
       "      <td>6.012500</td>\n",
       "      <td>2</td>\n",
       "      <td>120</td>\n",
       "    </tr>\n",
       "    <tr>\n",
       "      <th>211</th>\n",
       "      <td>2020-04-30</td>\n",
       "      <td>Ventura</td>\n",
       "      <td>979.833333</td>\n",
       "      <td>80.416667</td>\n",
       "      <td>68.125000</td>\n",
       "      <td>5.729167</td>\n",
       "      <td>2</td>\n",
       "      <td>121</td>\n",
       "    </tr>\n",
       "  </tbody>\n",
       "</table>\n",
       "<p>170 rows × 8 columns</p>\n",
       "</div>"
      ],
      "text/plain": [
       "          date       county  mean_pressure    mean_rh  mean_temp  mean_wind  \\\n",
       "42  2020-01-22  Los Angeles     933.333333  58.625000  53.754167   4.175000   \n",
       "43  2020-01-22      Ventura     987.583333  81.083333  54.625000   4.675000   \n",
       "44  2020-01-23  Los Angeles     933.750000  63.125000  49.966667   1.858333   \n",
       "45  2020-01-23      Ventura     985.708333  66.909091  64.375000   7.483333   \n",
       "46  2020-01-24  Los Angeles     930.166667  55.208333  52.495833   3.029167   \n",
       "..         ...          ...            ...        ...        ...        ...   \n",
       "207 2020-04-26      Ventura     980.666667  71.250000  72.708333   5.337500   \n",
       "208 2020-04-27      Ventura     981.416667  71.416667  70.125000   5.712500   \n",
       "209 2020-04-28      Ventura     981.708333  75.458333  71.450000   6.004167   \n",
       "210 2020-04-29      Ventura     981.875000  85.791667  68.684211   6.012500   \n",
       "211 2020-04-30      Ventura     979.833333  80.416667  68.125000   5.729167   \n",
       "\n",
       "     city  date_number  \n",
       "42      1           22  \n",
       "43      2           22  \n",
       "44      1           23  \n",
       "45      2           23  \n",
       "46      1           24  \n",
       "..    ...          ...  \n",
       "207     2          117  \n",
       "208     2          118  \n",
       "209     2          119  \n",
       "210     2          120  \n",
       "211     2          121  \n",
       "\n",
       "[170 rows x 8 columns]"
      ]
     },
     "execution_count": 6,
     "metadata": {},
     "output_type": "execute_result"
    }
   ],
   "source": [
    "mat_df = RDataCreationPipeline(\"PM2\", \"0-7\").mat_df\n",
    "mat_df = mat_df[(mat_df['date'] >= \"22-01-2020\") & (mat_df['date'] <= \"30-04-2020\")]\n",
    "mat_df"
   ]
  },
  {
   "cell_type": "code",
   "execution_count": 7,
   "metadata": {},
   "outputs": [
    {
     "name": "stdout",
     "output_type": "stream",
     "text": [
      "PM2 Micrograms/cubic meter (LC)\n",
      "PM10 Micrograms/cubic meter (25 C)\n",
      "O3 Parts per million\n"
     ]
    }
   ],
   "source": [
    "pollutants = [\"PM2\", \"PM10\", \"O3\"]\n",
    "df = CombineMultiplePollutants(pollutants,  year=2020, state_code=\"06\", filter_city_list=[\"037\", \"111\"]).combine_pollutants()"
   ]
  },
  {
   "cell_type": "code",
   "execution_count": 8,
   "metadata": {},
   "outputs": [],
   "source": [
    "df = df.merge(mat_df, on=('date', 'county'))\n",
    "df.drop(['date_number', 'city', 'date'], axis=1, inplace=True)"
   ]
  },
  {
   "cell_type": "code",
   "execution_count": 9,
   "metadata": {},
   "outputs": [],
   "source": [
    "des_stats =  df.describe()\n",
    "des_stats.columns = ['PM 2.5', 'PM 10', 'O3', 'Pressure', 'RH', 'Temperature','Wind']\n",
    "des_stats = des_stats.round(2)\n",
    "des_stats.to_csv(\"manuscript_images/table_1_MR.csv\")"
   ]
  },
  {
   "cell_type": "code",
   "execution_count": 10,
   "metadata": {},
   "outputs": [],
   "source": [
    "df.drop(['county'], inplace=True, axis=1)\n",
    "df.columns = ['PM 2.5', 'PM 10', 'O3', 'Pressure', 'RH', 'Temperature','Wind']"
   ]
  },
  {
   "cell_type": "code",
   "execution_count": 34,
   "metadata": {},
   "outputs": [
    {
     "data": {
      "image/png": "[encoded data removed]",
      "text/plain": [
       "<Figure size 792x648 with 1 Axes>"
      ]
     },
     "metadata": {},
     "output_type": "display_data"
    }
   ],
   "source": [
    "plt.close()\n",
    "corr = df.corr(method='spearman')\n",
    "mask = np.triu(np.ones_like(corr, dtype=np.bool))\n",
    "f, ax = plt.subplots(figsize=(11, 9))\n",
    "cmap = plt.get_cmap(\"GnBu\")\n",
    "sns.heatmap(corr, annot=True, cmap=cmap, mask=mask,  cbar_kws={\"shrink\": .5}, vmax=1, vmin=-1, cbar=False, square=True)\n",
    "ax.text(-0.04, 1, 'a)', transform=ax.transAxes, size=16, color='green')\n",
    "plt.title('Spearman', size=16)\n",
    "plt.savefig(\"manuscript_images/des_analysis_corr_MR_spear.png\", dpi=600, bbox_inches='tight')\n",
    "plt.show()"
   ]
  },
  {
   "cell_type": "code",
   "execution_count": 35,
   "metadata": {},
   "outputs": [
    {
     "data": {
      "image/png": "[encoded data removed]",
      "text/plain": [
       "<Figure size 792x648 with 2 Axes>"
      ]
     },
     "metadata": {},
     "output_type": "display_data"
    }
   ],
   "source": [
    "plt.close()\n",
    "corr = df.corr(method='kendall')\n",
    "mask = np.triu(np.ones_like(corr, dtype=np.bool))\n",
    "f, ax = plt.subplots(figsize=(11, 9))\n",
    "cmap = plt.get_cmap(\"GnBu\")\n",
    "sns.heatmap(corr, annot=True, cmap=cmap, mask=mask,  cbar_kws={\"shrink\": .5}, vmax=1, vmin=-1, square=True)\n",
    "ax.text(-0.04, 1, 'b)', transform=ax.transAxes, size=16, color='green')\n",
    "plt.title('Kendall', size=16)\n",
    "plt.savefig(\"manuscript_images/des_analysis_corr_MR_kendall.png\", dpi=600, bbox_inches='tight')\n",
    "plt.show()"
   ]
  },
  {
   "cell_type": "code",
   "execution_count": 11,
   "metadata": {},
   "outputs": [],
   "source": [
    "df.corr?"
   ]
  },
  {
   "cell_type": "code",
   "execution_count": null,
   "metadata": {},
   "outputs": [],
   "source": []
  }
 ],
 "metadata": {
  "kernelspec": {
   "display_name": "Python 3",
   "language": "python",
   "name": "python3"
  },
  "language_info": {
   "codemirror_mode": {
    "name": "ipython",
    "version": 3
   },
   "file_extension": ".py",
   "mimetype": "text/x-python",
   "name": "python",
   "nbconvert_exporter": "python",
   "pygments_lexer": "ipython3",
   "version": "3.7.9"
  }
 },
 "nbformat": 4,
 "nbformat_minor": 2
}
