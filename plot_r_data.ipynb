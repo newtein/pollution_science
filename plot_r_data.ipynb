{
 "cells": [
  {
   "cell_type": "code",
   "execution_count": 13,
   "metadata": {},
   "outputs": [],
   "source": [
    "import pandas as pd\n",
    "from read_data import ReadData\n",
    "import matplotlib.pyplot as plt\n",
    "import math\n",
    "\n",
    "pd.set_option('display.max_columns', 100)"
   ]
  },
  {
   "cell_type": "code",
   "execution_count": 22,
   "metadata": {},
   "outputs": [],
   "source": [
    "path=\"r_files\"\n",
    "state_code = \"06\"\n",
    "for pollutant in [ \"PM2\", \"PM10\", \"O3\"]:\n",
    "    for lag in [\"0-7\", \"0-14\", \"0-21\"]:\n",
    "        fname = \"{}/R_data_{}_{}_{}\".format(path, pollutant, state_code, lag)\n",
    "        mortality_fname = \"{}_COVID_mortality.csv\".format(fname)\n",
    "        cases_fname = \"{}_COVID_cases.csv\".format(fname)\n",
    "        df_cases= pd.read_csv(cases_fname)\n",
    "        df_mortality= pd.read_csv(mortality_fname)\n",
    "        df = df_cases.merge(df_mortality[['date', 'county', 'deaths']], on=('date', 'county'))\n",
    "        break"
   ]
  },
  {
   "cell_type": "code",
   "execution_count": 25,
   "metadata": {},
   "outputs": [
    {
     "data": {
      "image/png": "[encoded data removed]",
      "text/plain": [
       "<matplotlib.figure.Figure at 0x8fddb50>"
      ]
     },
     "metadata": {},
     "output_type": "display_data"
    }
   ],
   "source": [
    "df = df[df['county']=='Los Angeles']\n",
    "cases_log = df['cases'].apply(math.log)\n",
    "deaths_log = df['deaths'].apply(math.log)\n",
    "pollution = df['pollutant']\n",
    "n = range(len(cases_log))\n",
    "plt.close()\n",
    "# plt.scatter(n, cases_log, color='b', s=3, label='COVID-19 Cases')\n",
    "# plt.scatter(n, deaths_log, color='r', s=3, label='COVID-19 Mortalities')\n",
    "plt.scatter(n, pollution, color='g', s=3, label='Pollutant')\n",
    "\n",
    "plt.legend(loc='upper left')\n",
    "plt.show()"
   ]
  },
  {
   "cell_type": "code",
   "execution_count": null,
   "metadata": {},
   "outputs": [],
   "source": []
  }
 ],
 "metadata": {
  "kernelspec": {
   "display_name": "Python 3",
   "language": "python",
   "name": "python3"
  },
  "language_info": {
   "codemirror_mode": {
    "name": "ipython",
    "version": 3
   },
   "file_extension": ".py",
   "mimetype": "text/x-python",
   "name": "python",
   "nbconvert_exporter": "python",
   "pygments_lexer": "ipython3",
   "version": "3.6.3"
  }
 },
 "nbformat": 4,
 "nbformat_minor": 2
}
